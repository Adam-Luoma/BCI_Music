{
 "cells": [
  {
   "cell_type": "code",
   "execution_count": 1,
   "id": "95f2bc78",
   "metadata": {},
   "outputs": [
    {
     "name": "stdout",
     "output_type": "stream",
     "text": [
      "pygame 2.6.0 (SDL 2.28.4, Python 3.9.13)\n",
      "Hello from the pygame community. https://www.pygame.org/contribute.html\n"
     ]
    }
   ],
   "source": [
    "from psychopy import visual, core, sound, event\n",
    "import numpy as np\n",
    "from scipy.io.wavfile import write\n",
    "import random\n",
    "from pylsl import StreamInfo, StreamOutlet, StreamInlet, resolve_stream\n",
    "from threading import Thread\n",
    "import csv\n",
    "import asyncio\n",
    "from idun_guardian_sdk import GuardianClient"
   ]
  },
  {
   "cell_type": "code",
   "execution_count": 2,
   "id": "c37569cd",
   "metadata": {},
   "outputs": [],
   "source": [
    "subj = \"001\""
   ]
  },
  {
   "cell_type": "code",
   "execution_count": 4,
   "id": "739eb03e",
   "metadata": {},
   "outputs": [],
   "source": [
    "# Load the sound from the WAV file\n",
    "sound_440Hz = sound.Sound(\"440Hz_tone.wav\")\n",
    "sound_587Hz = sound.Sound(\"587Hz_tone.wav\")\n",
    "# Play the sound\n",
    "sound_587Hz.play()"
   ]
  },
  {
   "cell_type": "code",
   "execution_count": 5,
   "id": "6c5d6765",
   "metadata": {},
   "outputs": [],
   "source": [
    "device_address = 'E5:1E:FD:F5:15:26'\n",
    "api_token = \"idun_GAtJDPZJ1bbs47Mf4KEBA3-v35iudqE3NSGSLD3OE8zE8KN2CHcN809-\"\n",
    "client = GuardianClient(address=device_address, api_token=api_token)\n",
    "RECORDING_TIMER: int = 60 * 60 * 2  # 2 hours"
   ]
  },
  {
   "cell_type": "code",
   "execution_count": 6,
   "id": "3f8a5159",
   "metadata": {},
   "outputs": [
    {
     "ename": "RuntimeError",
     "evalue": "asyncio.run() cannot be called from a running event loop",
     "output_type": "error",
     "traceback": [
      "\u001b[1;31m---------------------------------------------------------------------------\u001b[0m",
      "\u001b[1;31mRuntimeError\u001b[0m                              Traceback (most recent call last)",
      "\u001b[1;32m~\\AppData\\Local\\Temp\\ipykernel_19276\\2918875297.py\u001b[0m in \u001b[0;36m<module>\u001b[1;34m\u001b[0m\n\u001b[0;32m     16\u001b[0m     )\n\u001b[0;32m     17\u001b[0m \u001b[1;33m\u001b[0m\u001b[0m\n\u001b[1;32m---> 18\u001b[1;33m \u001b[0masyncio\u001b[0m\u001b[1;33m.\u001b[0m\u001b[0mrun\u001b[0m\u001b[1;33m(\u001b[0m\u001b[0mclient\u001b[0m\u001b[1;33m.\u001b[0m\u001b[0mstart_recording\u001b[0m\u001b[1;33m(\u001b[0m\u001b[0mrecording_timer\u001b[0m\u001b[1;33m=\u001b[0m\u001b[0mRECORDING_TIMER\u001b[0m\u001b[1;33m)\u001b[0m\u001b[1;33m)\u001b[0m\u001b[1;33m\u001b[0m\u001b[1;33m\u001b[0m\u001b[0m\n\u001b[0m",
      "\u001b[1;32mC:\\ProgramData\\Anaconda3\\lib\\asyncio\\runners.py\u001b[0m in \u001b[0;36mrun\u001b[1;34m(main, debug)\u001b[0m\n\u001b[0;32m     31\u001b[0m     \"\"\"\n\u001b[0;32m     32\u001b[0m     \u001b[1;32mif\u001b[0m \u001b[0mevents\u001b[0m\u001b[1;33m.\u001b[0m\u001b[0m_get_running_loop\u001b[0m\u001b[1;33m(\u001b[0m\u001b[1;33m)\u001b[0m \u001b[1;32mis\u001b[0m \u001b[1;32mnot\u001b[0m \u001b[1;32mNone\u001b[0m\u001b[1;33m:\u001b[0m\u001b[1;33m\u001b[0m\u001b[1;33m\u001b[0m\u001b[0m\n\u001b[1;32m---> 33\u001b[1;33m         raise RuntimeError(\n\u001b[0m\u001b[0;32m     34\u001b[0m             \"asyncio.run() cannot be called from a running event loop\")\n\u001b[0;32m     35\u001b[0m \u001b[1;33m\u001b[0m\u001b[0m\n",
      "\u001b[1;31mRuntimeError\u001b[0m: asyncio.run() cannot be called from a running event loop"
     ]
    }
   ],
   "source": [
    "if __name__ == \"__main__\":\n",
    "\n",
    "    info = StreamInfo(\"IDUN\", \"EEG\", 1, 250, \"float32\", client.address)\n",
    "    lsl_outlet = StreamOutlet(info, 20, 360)\n",
    "\n",
    "    def lsl_stream_handler(event):\n",
    "        message = event.message\n",
    "        eeg = message[\"raw_eeg\"]\n",
    "        most_recent_ts = eeg[-1][\"timestamp\"]\n",
    "        data = [sample[\"ch1\"] for sample in eeg]\n",
    "        lsl_outlet.push_chunk(data, most_recent_ts)\n",
    "\n",
    "    client.subscribe_live_insights(\n",
    "        raw_eeg=True,\n",
    "        handler=lsl_stream_handler,\n",
    "    )\n",
    "\n",
    "    asyncio.run(client.start_recording(recording_timer=RECORDING_TIMER))"
   ]
  },
  {
   "cell_type": "code",
   "execution_count": 9,
   "id": "1a9cf052",
   "metadata": {},
   "outputs": [
    {
     "ename": "RuntimeError",
     "evalue": "asyncio.run() cannot be called from a running event loop",
     "output_type": "error",
     "traceback": [
      "\u001b[1;31m---------------------------------------------------------------------------\u001b[0m",
      "\u001b[1;31mRuntimeError\u001b[0m                              Traceback (most recent call last)",
      "\u001b[1;32m~\\AppData\\Local\\Temp\\ipykernel_17780\\1490298724.py\u001b[0m in \u001b[0;36m<module>\u001b[1;34m\u001b[0m\n\u001b[0;32m     22\u001b[0m     )\n\u001b[0;32m     23\u001b[0m \u001b[1;33m\u001b[0m\u001b[0m\n\u001b[1;32m---> 24\u001b[1;33m     \u001b[0masyncio\u001b[0m\u001b[1;33m.\u001b[0m\u001b[0mrun\u001b[0m\u001b[1;33m(\u001b[0m\u001b[0mclient\u001b[0m\u001b[1;33m.\u001b[0m\u001b[0mstart_recording\u001b[0m\u001b[1;33m(\u001b[0m\u001b[0mrecording_timer\u001b[0m\u001b[1;33m=\u001b[0m\u001b[0mRECORDING_TIMER\u001b[0m\u001b[1;33m)\u001b[0m\u001b[1;33m)\u001b[0m\u001b[1;33m\u001b[0m\u001b[1;33m\u001b[0m\u001b[0m\n\u001b[0m",
      "\u001b[1;32mC:\\ProgramData\\Anaconda3\\lib\\asyncio\\runners.py\u001b[0m in \u001b[0;36mrun\u001b[1;34m(main, debug)\u001b[0m\n\u001b[0;32m     31\u001b[0m     \"\"\"\n\u001b[0;32m     32\u001b[0m     \u001b[1;32mif\u001b[0m \u001b[0mevents\u001b[0m\u001b[1;33m.\u001b[0m\u001b[0m_get_running_loop\u001b[0m\u001b[1;33m(\u001b[0m\u001b[1;33m)\u001b[0m \u001b[1;32mis\u001b[0m \u001b[1;32mnot\u001b[0m \u001b[1;32mNone\u001b[0m\u001b[1;33m:\u001b[0m\u001b[1;33m\u001b[0m\u001b[1;33m\u001b[0m\u001b[0m\n\u001b[1;32m---> 33\u001b[1;33m         raise RuntimeError(\n\u001b[0m\u001b[0;32m     34\u001b[0m             \"asyncio.run() cannot be called from a running event loop\")\n\u001b[0;32m     35\u001b[0m \u001b[1;33m\u001b[0m\u001b[0m\n",
      "\u001b[1;31mRuntimeError\u001b[0m: asyncio.run() cannot be called from a running event loop"
     ]
    }
   ],
   "source": [
    "async def main():\n",
    "    info = StreamInfo(\"IDUN\", \"EEG\", 1, 250, \"float32\", client.address)\n",
    "\n",
    "if __name__ == \"__main__\":\n",
    "    if not asyncio.get_event_loop().is_running():\n",
    "        asyncio.run(main())\n",
    "    else:\n",
    "        asyncio.ensure_future(main())\n",
    "\n",
    "    def lsl_stream_handler(event):\n",
    "        message = event.message\n",
    "        eeg = message[\"raw_eeg\"]\n",
    "        most_recent_ts = eeg[-1][\"timestamp\"]\n",
    "        data = [sample[\"ch1\"] for sample in eeg]\n",
    "        lsl_outlet.push_chunk(data, most_recent_ts)\n",
    "\n",
    "    client.subscribe_live_insights(\n",
    "        raw_eeg=True,\n",
    "        handler=lsl_stream_handler,\n",
    "    )\n",
    "\n",
    "    asyncio.run(client.start_recording(recording_timer=RECORDING_TIMER))"
   ]
  },
  {
   "cell_type": "code",
   "execution_count": 6,
   "id": "61bbbef4",
   "metadata": {},
   "outputs": [
    {
     "ename": "NameError",
     "evalue": "name 'markers' is not defined",
     "output_type": "error",
     "traceback": [
      "\u001b[1;31m---------------------------------------------------------------------------\u001b[0m",
      "\u001b[1;31mNameError\u001b[0m                                 Traceback (most recent call last)",
      "\u001b[1;32m~\\AppData\\Local\\Temp\\ipykernel_12536\\1649972514.py\u001b[0m in \u001b[0;36m<module>\u001b[1;34m\u001b[0m\n\u001b[0;32m     71\u001b[0m             \u001b[0msound_440Hz\u001b[0m\u001b[1;33m.\u001b[0m\u001b[0mplay\u001b[0m\u001b[1;33m(\u001b[0m\u001b[1;33m)\u001b[0m\u001b[1;33m\u001b[0m\u001b[1;33m\u001b[0m\u001b[0m\n\u001b[0;32m     72\u001b[0m             \u001b[0moutlet\u001b[0m\u001b[1;33m.\u001b[0m\u001b[0mpush_sample\u001b[0m\u001b[1;33m(\u001b[0m\u001b[1;33m[\u001b[0m\u001b[1;36m1\u001b[0m\u001b[1;33m]\u001b[0m\u001b[1;33m)\u001b[0m  \u001b[1;31m# Send LSL marker for 440 Hz sound\u001b[0m\u001b[1;33m\u001b[0m\u001b[1;33m\u001b[0m\u001b[0m\n\u001b[1;32m---> 73\u001b[1;33m             \u001b[0mmarkers\u001b[0m\u001b[1;33m.\u001b[0m\u001b[0mappend\u001b[0m\u001b[1;33m(\u001b[0m\u001b[1;36m1\u001b[0m\u001b[1;33m)\u001b[0m\u001b[1;33m\u001b[0m\u001b[1;33m\u001b[0m\u001b[0m\n\u001b[0m\u001b[0;32m     74\u001b[0m             \u001b[0mmarker_timestamps\u001b[0m\u001b[1;33m.\u001b[0m\u001b[0mappend\u001b[0m\u001b[1;33m(\u001b[0m\u001b[0mcore\u001b[0m\u001b[1;33m.\u001b[0m\u001b[0mgetTime\u001b[0m\u001b[1;33m(\u001b[0m\u001b[1;33m)\u001b[0m\u001b[1;33m)\u001b[0m  \u001b[1;31m# Store the time when the marker was sent\u001b[0m\u001b[1;33m\u001b[0m\u001b[1;33m\u001b[0m\u001b[0m\n\u001b[0;32m     75\u001b[0m \u001b[1;33m\u001b[0m\u001b[0m\n",
      "\u001b[1;31mNameError\u001b[0m: name 'markers' is not defined"
     ]
    }
   ],
   "source": [
    "# # Set up the LSL stream for markers\n",
    "info = StreamInfo('MarkerStream', 'Markers', 1, 2, 'int32', 'myuidw43536')\n",
    "outlet = StreamOutlet(info)\n",
    "\n",
    "# Set up the window and fixation cross\n",
    "win = visual.Window([800, 600], color='black')\n",
    "fixation = visual.TextStim(win, text='+', color='white', height=0.1)\n",
    "block_text = visual.TextStim(win, text='', color='white', height=0.1, pos=(0, 0))\n",
    "\n",
    "# Resolve the EEG stream\n",
    "print(\"Looking for an EEG stream...\")\n",
    "eeg_streams = resolve_stream('type', 'EEG')\n",
    "eeg_inlet = StreamInlet(eeg_streams[0])\n",
    "\n",
    "# # Resolve the Marker stream\n",
    "print(\"Looking for a Marker stream...\")\n",
    "marker_streams = resolve_stream('type', 'Markers')\n",
    "marker_inlet = StreamInlet(marker_streams[0])\n",
    "\n",
    "# # Create lists to store the data\n",
    "eeg_data = []\n",
    "timestamps = []\n",
    "markers = []\n",
    "marker_timestamps = []\n",
    "\n",
    "# def collect_eeg_data():\n",
    "while True:\n",
    "    eeg_sample, eeg_timestamp = eeg_inlet.pull_sample()\n",
    "    eeg_data.append(eeg_sample)\n",
    "    timestamps.append(eeg_timestamp)\n",
    "\n",
    "        \n",
    "eeg_thread = Thread(target=collect_eeg_data)\n",
    "eeg_thread.daemon = True  # Ensures the thread will close when the main program exits\n",
    "eeg_thread.start()\n",
    "        \n",
    "# Number of blocks and target sounds per block\n",
    "num_blocks = 2\n",
    "target_sound_count_per_block = 30\n",
    "\n",
    "\n",
    "for block in range(num_blocks):\n",
    "    # Display the block number\n",
    "    block_text.text = f\"Starting Block {block + 1}. Press Enter to start.\"\n",
    "    block_text.draw()\n",
    "    win.flip()\n",
    "\n",
    "    # Wait for Enter key press to start the block\n",
    "    while True:\n",
    "        keys = event.waitKeys()\n",
    "        if 'return' in keys:  # Check if Enter key (Return) is pressed\n",
    "            break\n",
    "        elif 'escape' in keys:  # Allow escape to quit before starting the block\n",
    "            win.close()\n",
    "            core.quit()\n",
    "\n",
    "    fixation.draw()\n",
    "    win.flip()\n",
    "    \n",
    "    # Counter for the target sound in each block\n",
    "    target_sound_count = 0\n",
    "    while target_sound_count < target_sound_count_per_block:\n",
    "        # Check for escape key press\n",
    "        if 'escape' in event.getKeys():\n",
    "            win.close()\n",
    "            core.quit()\n",
    "        \n",
    "        # Play the standard sound\n",
    "        standard_sound_count = random.randint(7, 12)\n",
    "        for _ in range(standard_sound_count):\n",
    "            sound_440Hz.play()\n",
    "            outlet.push_sample([1])  # Send LSL marker for 440 Hz sound\n",
    "            markers.append(1)\n",
    "            marker_timestamps.append(core.getTime())  # Store the time when the marker was sent\n",
    "            \n",
    "            core.wait(0.75)  # Wait for 0.75 second between sounds\n",
    "\n",
    "            # Check for escape key press\n",
    "            if 'escape' in event.getKeys():\n",
    "                win.close()\n",
    "                core.quit()\n",
    "\n",
    "        # Play the target sound\n",
    "        sound_587Hz.play()\n",
    "        outlet.push_sample([2])  # Send LSL marker for 587 Hz sound\n",
    "        target_sound_count += 1\n",
    "        markers.append(2)\n",
    "        marker_timestamps.append(core.getTime())  # Store the time when the marker was sent\n",
    "        \n",
    "        core.wait(0.75)  # Wait for 0.75 second before the next sound\n",
    "\n",
    "    # Block completed\n",
    "    print(f\"Block {block + 1} completed\")\n",
    "\n",
    "# Close the window after all blocks are done\n",
    "win.close()\n",
    "core.quit()\n",
    " \n",
    "    \n",
    "print(\"Data collection finished.\")\n",
    "\n",
    "# Convert the lists to numpy arrays for further processing\n",
    "eeg_data = np.array(eeg_data)            # Shape: (num_samples, num_channels)\n",
    "timestamps = np.array(timestamps)        # Shape: (num_samples,)\n",
    "markers = np.array(markers)              # Shape: (num_markers,)\n",
    "marker_timestamps = np.array(marker_timestamps)  # Shape: (num_markers,)"
   ]
  },
  {
   "cell_type": "code",
   "execution_count": null,
   "id": "82bf80c2",
   "metadata": {},
   "outputs": [],
   "source": [
    "# Save the arrays as CSV files\n",
    "np.savetxt(f'BCI4Kids/data/IDUN_Pilot/eeg_data_{subj}A.csv', eeg_data, delimiter=',')\n",
    "np.savetxt(f'BCI4Kids/data/IDUN_Pilot/timestamps_{subj}A.csv', timestamps, delimiter=',')\n",
    "np.savetxt(f'BCI4Kids/data/IDUN_Pilot/markers_{subj}A.csv', markers, delimiter=',')\n",
    "np.savetxt(f'BCI4Kids/data/IDUN_Pilot/marker_timestamps_{subj}A.csv', marker_timestamps, delimiter=',')"
   ]
  },
  {
   "cell_type": "markdown",
   "id": "4c69b02c",
   "metadata": {},
   "source": [
    "# OLD"
   ]
  },
  {
   "cell_type": "code",
   "execution_count": 3,
   "id": "32aa86b9",
   "metadata": {},
   "outputs": [],
   "source": [
    "# Parameters\n",
    "sample_rate = 44100  # Hertz\n",
    "duration = 0.1       # Seconds\n",
    "frequency = 440      # Hertz\n",
    "\n",
    "# Generate the sound\n",
    "t = np.linspace(0, duration, int(sample_rate * duration), False)\n",
    "tone = 0.5 * np.sin(2 * np.pi * frequency * t)\n",
    "\n",
    "# Ensure it is in the correct format\n",
    "tone = np.int16(tone * 32767)\n",
    "\n",
    "# Write to a WAV file\n",
    "write(\"440Hz_tone.wav\", sample_rate, tone)\n",
    "\n",
    "\n",
    "frequency = 587      # Hertz\n",
    "\n",
    "# Generate the sound\n",
    "t = np.linspace(0, duration, int(sample_rate * duration), False)\n",
    "tone = 0.5 * np.sin(2 * np.pi * frequency * t)\n",
    "\n",
    "# Ensure it is in the correct format\n",
    "tone = np.int16(tone * 32767)\n",
    "\n",
    "# Write to a WAV file\n",
    "write(\"587Hz_tone.wav\", sample_rate, tone)"
   ]
  },
  {
   "cell_type": "code",
   "execution_count": 5,
   "id": "dcc0efb8",
   "metadata": {},
   "outputs": [
    {
     "name": "stdout",
     "output_type": "stream",
     "text": [
      "9.8301 \tWARNING \tMonitor specification not found. Creating a temporary one...\n"
     ]
    },
    {
     "ename": "SystemExit",
     "evalue": "0",
     "output_type": "error",
     "traceback": [
      "An exception has occurred, use %tb to see the full traceback.\n",
      "\u001b[1;31mSystemExit\u001b[0m\u001b[1;31m:\u001b[0m 0\n"
     ]
    },
    {
     "name": "stderr",
     "output_type": "stream",
     "text": [
      "C:\\ProgramData\\Anaconda3\\lib\\site-packages\\IPython\\core\\interactiveshell.py:3465: UserWarning: To exit: use 'exit', 'quit', or Ctrl-D.\n",
      "  warn(\"To exit: use 'exit', 'quit', or Ctrl-D.\", stacklevel=1)\n"
     ]
    }
   ],
   "source": [
    "# Set up the window and fixation cross\n",
    "win = visual.Window([800, 600], color='black')\n",
    "fixation = visual.TextStim(win, text='+', color='white', height=0.1)\n",
    "block_text = visual.TextStim(win, text='', color='white', height=0.1, pos=(0, 0))\n",
    "\n",
    "\n",
    "\n",
    "# Number of blocks and target sounds per block\n",
    "num_blocks = 2\n",
    "target_sound_count_per_block = 30\n",
    "\n",
    "\n",
    "\n",
    "for block in range(num_blocks):\n",
    "    # Display the block number\n",
    "    block_text.text = f\"Starting Block {block + 1}. Press Enter to start.\"\n",
    "    block_text.draw()\n",
    "    win.flip()\n",
    "    \n",
    "    # Wait for Enter key press to start the block\n",
    "    while True:\n",
    "        keys = event.waitKeys()\n",
    "        if 'return' in keys:  # Check if Enter key (Return) is pressed\n",
    "            break\n",
    "        elif 'escape' in keys:  # Allow escape to quit before starting the block\n",
    "            win.close()\n",
    "            core.quit()\n",
    "\n",
    "    fixation.draw()\n",
    "    win.flip()\n",
    "    \n",
    "    # Counter for the target sound in each block\n",
    "    target_sound_count = 0\n",
    "    while target_sound_count < target_sound_count_per_block:\n",
    "        # Check for escape key press\n",
    "        if 'escape' in event.getKeys():\n",
    "            win.close()\n",
    "            core.quit()\n",
    "        \n",
    "        # Play the standard sound\n",
    "        standard_sound_count = random.randint(7, 12)\n",
    "        for _ in range(standard_sound_count):\n",
    "            sound_440Hz.play()\n",
    "            #outlet.push_sample([1])  # Send LSL marker for 440 Hz sound\n",
    "            core.wait(0.75)  # Wait for 1 second between sounds\n",
    "\n",
    "            # Check for escape key press\n",
    "            if 'escape' in event.getKeys():\n",
    "                win.close()\n",
    "                core.quit()\n",
    "\n",
    "        # Play the target sound\n",
    "        sound_587Hz.play()\n",
    "        #outlet.push_sample([2])  # Send LSL marker for 587 Hz sound\n",
    "        target_sound_count += 1\n",
    "        core.wait(0.75)  # Wait for 1 second before the next sound\n",
    "\n",
    "    # Block completed\n",
    "    print(f\"Block {block + 1} completed\")\n",
    "\n",
    "# Close the window after all blocks are done\n",
    "win.close()\n",
    "core.quit()"
   ]
  },
  {
   "cell_type": "code",
   "execution_count": 2,
   "id": "9ea2f5b9",
   "metadata": {},
   "outputs": [
    {
     "name": "stdout",
     "output_type": "stream",
     "text": [
      "An error occurred: name 'streams' is not defined\n"
     ]
    }
   ],
   "source": [
    "try:\n",
    "    label, s = streams.getStream(sampleRate=sampleRate, channels=channels, blockSize=blockSize)\n",
    "    if label is None or s is None:\n",
    "        raise ValueError(\"Failed to get a valid stream.\")\n",
    "except Exception as e:\n",
    "    print(f\"An error occurred: {e}\")"
   ]
  },
  {
   "cell_type": "code",
   "execution_count": 4,
   "id": "f05d959f",
   "metadata": {},
   "outputs": [
    {
     "ename": "TypeError",
     "evalue": "cannot unpack non-iterable NoneType object",
     "output_type": "error",
     "traceback": [
      "\u001b[1;31m---------------------------------------------------------------------------\u001b[0m",
      "\u001b[1;31mTypeError\u001b[0m                                 Traceback (most recent call last)",
      "\u001b[1;32m~\\AppData\\Local\\Temp\\ipykernel_10084\\4040501536.py\u001b[0m in \u001b[0;36m<module>\u001b[1;34m\u001b[0m\n\u001b[0;32m      3\u001b[0m \u001b[1;33m\u001b[0m\u001b[0m\n\u001b[0;32m      4\u001b[0m \u001b[1;32mfrom\u001b[0m \u001b[0mpsychopy\u001b[0m \u001b[1;32mimport\u001b[0m \u001b[0msound\u001b[0m\u001b[1;33m\u001b[0m\u001b[1;33m\u001b[0m\u001b[0m\n\u001b[1;32m----> 5\u001b[1;33m \u001b[0msound_440Hz\u001b[0m \u001b[1;33m=\u001b[0m \u001b[0msound\u001b[0m\u001b[1;33m.\u001b[0m\u001b[0mSound\u001b[0m\u001b[1;33m(\u001b[0m\u001b[1;36m440\u001b[0m\u001b[1;33m,\u001b[0m \u001b[0msecs\u001b[0m\u001b[1;33m=\u001b[0m\u001b[1;36m0.1\u001b[0m\u001b[1;33m)\u001b[0m\u001b[1;33m\u001b[0m\u001b[1;33m\u001b[0m\u001b[0m\n\u001b[0m",
      "\u001b[1;32m~\\AppData\\Roaming\\Python\\Python39\\site-packages\\psychopy\\sound\\backend_ptb.py\u001b[0m in \u001b[0;36m__init__\u001b[1;34m(self, value, secs, octave, stereo, volume, loops, sampleRate, blockSize, preBuffer, hamming, startTime, stopTime, name, autoLog, syncToWin, speaker)\u001b[0m\n\u001b[0;32m    332\u001b[0m         \u001b[0mself\u001b[0m\u001b[1;33m.\u001b[0m\u001b[0mwin\u001b[0m \u001b[1;33m=\u001b[0m \u001b[0msyncToWin\u001b[0m\u001b[1;33m\u001b[0m\u001b[1;33m\u001b[0m\u001b[0m\n\u001b[0;32m    333\u001b[0m         \u001b[1;31m# setSound (determines sound type)\u001b[0m\u001b[1;33m\u001b[0m\u001b[1;33m\u001b[0m\u001b[0m\n\u001b[1;32m--> 334\u001b[1;33m         self.setSound(value, secs=self.secs, octave=self.octave,\n\u001b[0m\u001b[0;32m    335\u001b[0m                       hamming=self.hamming)\n\u001b[0;32m    336\u001b[0m         \u001b[0mself\u001b[0m\u001b[1;33m.\u001b[0m\u001b[0m_isPlaying\u001b[0m \u001b[1;33m=\u001b[0m \u001b[1;32mFalse\u001b[0m  \u001b[1;31m# set `True` after `play()` is called\u001b[0m\u001b[1;33m\u001b[0m\u001b[1;33m\u001b[0m\u001b[0m\n",
      "\u001b[1;32m~\\AppData\\Roaming\\Python\\Python39\\site-packages\\psychopy\\sound\\backend_ptb.py\u001b[0m in \u001b[0;36msetSound\u001b[1;34m(self, value, secs, octave, hamming, log)\u001b[0m\n\u001b[0;32m    421\u001b[0m         \u001b[0mself\u001b[0m\u001b[1;33m.\u001b[0m\u001b[0mloops\u001b[0m \u001b[1;33m=\u001b[0m \u001b[0mself\u001b[0m\u001b[1;33m.\u001b[0m\u001b[0m_loopsRequested\u001b[0m\u001b[1;33m\u001b[0m\u001b[1;33m\u001b[0m\u001b[0m\n\u001b[0;32m    422\u001b[0m         \u001b[1;31m# start with the base class method\u001b[0m\u001b[1;33m\u001b[0m\u001b[1;33m\u001b[0m\u001b[0m\n\u001b[1;32m--> 423\u001b[1;33m         \u001b[0m_SoundBase\u001b[0m\u001b[1;33m.\u001b[0m\u001b[0msetSound\u001b[0m\u001b[1;33m(\u001b[0m\u001b[0mself\u001b[0m\u001b[1;33m,\u001b[0m \u001b[0mvalue\u001b[0m\u001b[1;33m,\u001b[0m \u001b[0msecs\u001b[0m\u001b[1;33m,\u001b[0m \u001b[0moctave\u001b[0m\u001b[1;33m,\u001b[0m \u001b[0mhamming\u001b[0m\u001b[1;33m,\u001b[0m \u001b[0mlog\u001b[0m\u001b[1;33m)\u001b[0m\u001b[1;33m\u001b[0m\u001b[1;33m\u001b[0m\u001b[0m\n\u001b[0m\u001b[0;32m    424\u001b[0m \u001b[1;33m\u001b[0m\u001b[0m\n\u001b[0;32m    425\u001b[0m     \u001b[1;32mdef\u001b[0m \u001b[0m_setSndFromFile\u001b[0m\u001b[1;33m(\u001b[0m\u001b[0mself\u001b[0m\u001b[1;33m,\u001b[0m \u001b[0mfilename\u001b[0m\u001b[1;33m)\u001b[0m\u001b[1;33m:\u001b[0m\u001b[1;33m\u001b[0m\u001b[1;33m\u001b[0m\u001b[0m\n",
      "\u001b[1;32m~\\AppData\\Roaming\\Python\\Python39\\site-packages\\psychopy\\sound\\_base.py\u001b[0m in \u001b[0;36msetSound\u001b[1;34m(self, value, secs, octave, hamming, log)\u001b[0m\n\u001b[0;32m    187\u001b[0m                 \u001b[0mmsg\u001b[0m \u001b[1;33m=\u001b[0m \u001b[1;34m'Sound: bad requested frequency %.0f'\u001b[0m\u001b[1;33m\u001b[0m\u001b[1;33m\u001b[0m\u001b[0m\n\u001b[0;32m    188\u001b[0m                 \u001b[1;32mraise\u001b[0m \u001b[0mValueError\u001b[0m\u001b[1;33m(\u001b[0m\u001b[0mmsg\u001b[0m \u001b[1;33m%\u001b[0m \u001b[0mvalue\u001b[0m\u001b[1;33m)\u001b[0m\u001b[1;33m\u001b[0m\u001b[1;33m\u001b[0m\u001b[0m\n\u001b[1;32m--> 189\u001b[1;33m             \u001b[0mself\u001b[0m\u001b[1;33m.\u001b[0m\u001b[0m_setSndFromFreq\u001b[0m\u001b[1;33m(\u001b[0m\u001b[0mvalue\u001b[0m\u001b[1;33m,\u001b[0m \u001b[0msecs\u001b[0m\u001b[1;33m,\u001b[0m \u001b[0mhamming\u001b[0m\u001b[1;33m=\u001b[0m\u001b[0mhamming\u001b[0m\u001b[1;33m)\u001b[0m\u001b[1;33m\u001b[0m\u001b[1;33m\u001b[0m\u001b[0m\n\u001b[0m\u001b[0;32m    190\u001b[0m         \u001b[1;32mif\u001b[0m \u001b[0misinstance\u001b[0m\u001b[1;33m(\u001b[0m\u001b[0mvalue\u001b[0m\u001b[1;33m,\u001b[0m \u001b[0mstr\u001b[0m\u001b[1;33m)\u001b[0m\u001b[1;33m:\u001b[0m\u001b[1;33m\u001b[0m\u001b[1;33m\u001b[0m\u001b[0m\n\u001b[0;32m    191\u001b[0m             \u001b[1;32mif\u001b[0m \u001b[0mvalue\u001b[0m\u001b[1;33m.\u001b[0m\u001b[0mcapitalize\u001b[0m\u001b[1;33m(\u001b[0m\u001b[1;33m)\u001b[0m \u001b[1;32min\u001b[0m \u001b[0mknownNoteNames\u001b[0m\u001b[1;33m:\u001b[0m\u001b[1;33m\u001b[0m\u001b[1;33m\u001b[0m\u001b[0m\n",
      "\u001b[1;32m~\\AppData\\Roaming\\Python\\Python39\\site-packages\\psychopy\\sound\\_base.py\u001b[0m in \u001b[0;36m_setSndFromFreq\u001b[1;34m(self, thisFreq, secs, hamming)\u001b[0m\n\u001b[0;32m    262\u001b[0m         \u001b[1;32mif\u001b[0m \u001b[0mhamming\u001b[0m \u001b[1;32mand\u001b[0m \u001b[0mnSamples\u001b[0m \u001b[1;33m>\u001b[0m \u001b[1;36m30\u001b[0m\u001b[1;33m:\u001b[0m\u001b[1;33m\u001b[0m\u001b[1;33m\u001b[0m\u001b[0m\n\u001b[0;32m    263\u001b[0m             \u001b[0moutArr\u001b[0m \u001b[1;33m=\u001b[0m \u001b[0mapodize\u001b[0m\u001b[1;33m(\u001b[0m\u001b[0moutArr\u001b[0m\u001b[1;33m,\u001b[0m \u001b[0mself\u001b[0m\u001b[1;33m.\u001b[0m\u001b[0msampleRate\u001b[0m\u001b[1;33m)\u001b[0m\u001b[1;33m\u001b[0m\u001b[1;33m\u001b[0m\u001b[0m\n\u001b[1;32m--> 264\u001b[1;33m         \u001b[0mself\u001b[0m\u001b[1;33m.\u001b[0m\u001b[0m_setSndFromArray\u001b[0m\u001b[1;33m(\u001b[0m\u001b[0moutArr\u001b[0m\u001b[1;33m)\u001b[0m\u001b[1;33m\u001b[0m\u001b[1;33m\u001b[0m\u001b[0m\n\u001b[0m\u001b[0;32m    265\u001b[0m \u001b[1;33m\u001b[0m\u001b[0m\n\u001b[0;32m    266\u001b[0m     \u001b[1;32mdef\u001b[0m \u001b[0m_getDefaultSampleRate\u001b[0m\u001b[1;33m(\u001b[0m\u001b[0mself\u001b[0m\u001b[1;33m)\u001b[0m\u001b[1;33m:\u001b[0m\u001b[1;33m\u001b[0m\u001b[1;33m\u001b[0m\u001b[0m\n",
      "\u001b[1;32m~\\AppData\\Roaming\\Python\\Python39\\site-packages\\psychopy\\sound\\backend_ptb.py\u001b[0m in \u001b[0;36m_setSndFromArray\u001b[1;34m(self, thisArray)\u001b[0m\n\u001b[0;32m    495\u001b[0m \u001b[1;33m\u001b[0m\u001b[0m\n\u001b[0;32m    496\u001b[0m         \u001b[1;32mif\u001b[0m \u001b[1;32mnot\u001b[0m \u001b[0mself\u001b[0m\u001b[1;33m.\u001b[0m\u001b[0mtrack\u001b[0m\u001b[1;33m:\u001b[0m  \u001b[1;31m# do we have one already?\u001b[0m\u001b[1;33m\u001b[0m\u001b[1;33m\u001b[0m\u001b[0m\n\u001b[1;32m--> 497\u001b[1;33m             self.track = audio.Slave(self.stream.handle, data=self.sndArr,\n\u001b[0m\u001b[0;32m    498\u001b[0m                                      volume=self.volume)\n\u001b[0;32m    499\u001b[0m         \u001b[1;32melse\u001b[0m\u001b[1;33m:\u001b[0m\u001b[1;33m\u001b[0m\u001b[1;33m\u001b[0m\u001b[0m\n",
      "\u001b[1;32m~\\AppData\\Roaming\\Python\\Python39\\site-packages\\psychopy\\sound\\backend_ptb.py\u001b[0m in \u001b[0;36mstream\u001b[1;34m(self)\u001b[0m\n\u001b[0;32m    607\u001b[0m         \u001b[1;32mif\u001b[0m \u001b[1;32mnot\u001b[0m \u001b[0mself\u001b[0m\u001b[1;33m.\u001b[0m\u001b[0mstreamLabel\u001b[0m\u001b[1;33m:\u001b[0m\u001b[1;33m\u001b[0m\u001b[1;33m\u001b[0m\u001b[0m\n\u001b[0;32m    608\u001b[0m             \u001b[1;32mtry\u001b[0m\u001b[1;33m:\u001b[0m\u001b[1;33m\u001b[0m\u001b[1;33m\u001b[0m\u001b[0m\n\u001b[1;32m--> 609\u001b[1;33m                 label, s = streams.getStream(sampleRate=self.sampleRate,\n\u001b[0m\u001b[0;32m    610\u001b[0m                                              \u001b[0mchannels\u001b[0m\u001b[1;33m=\u001b[0m\u001b[0mself\u001b[0m\u001b[1;33m.\u001b[0m\u001b[0mchannels\u001b[0m\u001b[1;33m,\u001b[0m\u001b[1;33m\u001b[0m\u001b[1;33m\u001b[0m\u001b[0m\n\u001b[0;32m    611\u001b[0m                                              blockSize=self.blockSize)\n",
      "\u001b[1;31mTypeError\u001b[0m: cannot unpack non-iterable NoneType object"
     ]
    }
   ],
   "source": [
    "from psychopy import prefs\n",
    "prefs.general['audioLib'] = ['sounddevice']\n",
    "\n",
    "from psychopy import sound\n",
    "sound_440Hz = sound.Sound(440, secs=0.1)"
   ]
  },
  {
   "cell_type": "code",
   "execution_count": null,
   "id": "37d4766a",
   "metadata": {},
   "outputs": [],
   "source": []
  }
 ],
 "metadata": {
  "kernelspec": {
   "display_name": "Python 3 (ipykernel)",
   "language": "python",
   "name": "python3"
  },
  "language_info": {
   "codemirror_mode": {
    "name": "ipython",
    "version": 3
   },
   "file_extension": ".py",
   "mimetype": "text/x-python",
   "name": "python",
   "nbconvert_exporter": "python",
   "pygments_lexer": "ipython3",
   "version": "3.9.13"
  }
 },
 "nbformat": 4,
 "nbformat_minor": 5
}
