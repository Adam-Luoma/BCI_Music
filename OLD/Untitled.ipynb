{
 "cells": [
  {
   "cell_type": "code",
   "execution_count": 2,
   "id": "c6c96f8a",
   "metadata": {},
   "outputs": [
    {
     "name": "stderr",
     "output_type": "stream",
     "text": [
      "[INFO] 2024-08-19 11:07:56,981: [BLE]: No IGEB device found, trying again in 3 seconds\n",
      "[INFO] 2024-08-19 11:07:56,981: [BLE]: No IGEB device found, trying again in 3 seconds\n"
     ]
    },
    {
     "name": "stdout",
     "output_type": "stream",
     "text": [
      "\n",
      "----- Available devices -----\n",
      "\n",
      "Index | Name | Address\n",
      "----------------------------\n",
      "----------------------------\n",
      "\n"
     ]
    },
    {
     "name": "stderr",
     "output_type": "stream",
     "text": [
      "[INFO] 2024-08-19 11:08:05,023: [BLE]: No IGEB device found, trying again in 3 seconds\n",
      "[INFO] 2024-08-19 11:08:05,023: [BLE]: No IGEB device found, trying again in 3 seconds\n"
     ]
    },
    {
     "name": "stdout",
     "output_type": "stream",
     "text": [
      "\n",
      "----- Available devices -----\n",
      "\n",
      "Index | Name | Address\n",
      "----------------------------\n",
      "----------------------------\n",
      "\n"
     ]
    },
    {
     "name": "stderr",
     "output_type": "stream",
     "text": [
      "[INFO] 2024-08-19 11:08:13,065: [BLE]: No IGEB device found, trying again in 3 seconds\n",
      "[INFO] 2024-08-19 11:08:13,065: [BLE]: No IGEB device found, trying again in 3 seconds\n"
     ]
    },
    {
     "name": "stdout",
     "output_type": "stream",
     "text": [
      "\n",
      "----- Available devices -----\n",
      "\n",
      "Index | Name | Address\n",
      "----------------------------\n",
      "----------------------------\n",
      "\n"
     ]
    },
    {
     "name": "stderr",
     "output_type": "stream",
     "text": [
      "[INFO] 2024-08-19 11:08:21,096: [BLE]: No IGEB device found, trying again in 3 seconds\n",
      "[INFO] 2024-08-19 11:08:21,096: [BLE]: No IGEB device found, trying again in 3 seconds\n"
     ]
    },
    {
     "name": "stdout",
     "output_type": "stream",
     "text": [
      "\n",
      "----- Available devices -----\n",
      "\n",
      "Index | Name | Address\n",
      "----------------------------\n",
      "----------------------------\n",
      "\n"
     ]
    },
    {
     "name": "stderr",
     "output_type": "stream",
     "text": [
      "[INFO] 2024-08-19 11:08:29,140: [BLE]: No IGEB device found, trying again in 3 seconds\n",
      "[INFO] 2024-08-19 11:08:29,140: [BLE]: No IGEB device found, trying again in 3 seconds\n"
     ]
    },
    {
     "name": "stdout",
     "output_type": "stream",
     "text": [
      "\n",
      "----- Available devices -----\n",
      "\n",
      "Index | Name | Address\n",
      "----------------------------\n",
      "----------------------------\n",
      "\n"
     ]
    }
   ],
   "source": [
    "import asyncio\n",
    "from pylsl import StreamInfo, StreamOutlet\n",
    "\n",
    "from idun_guardian_sdk import GuardianClient\n",
    "\n",
    "RECORDING_TIMER: int = 60 * 60 * 2  # 2 hours\n",
    "my_api_token = \"E5-1E-FD-F5-15-26\"\n",
    "\n",
    "\n",
    "\n",
    "async def main():\n",
    "    client = GuardianClient(api_token=my_api_token)\n",
    "    client.address = await client.search_device()\n",
    "    info = StreamInfo(\"IDUN\", \"EEG\", 1, 250, \"float32\", client.address)\n",
    "    # rest of your code\n",
    "\n",
    "if __name__ == \"__main__\":\n",
    "    if not asyncio.get_event_loop().is_running():\n",
    "        asyncio.run(main())\n",
    "    else:\n",
    "        asyncio.ensure_future(main())"
   ]
  },
  {
   "cell_type": "code",
   "execution_count": null,
   "id": "6e5135e2",
   "metadata": {},
   "outputs": [],
   "source": []
  }
 ],
 "metadata": {
  "kernelspec": {
   "display_name": "Python 3 (ipykernel)",
   "language": "python",
   "name": "python3"
  },
  "language_info": {
   "codemirror_mode": {
    "name": "ipython",
    "version": 3
   },
   "file_extension": ".py",
   "mimetype": "text/x-python",
   "name": "python",
   "nbconvert_exporter": "python",
   "pygments_lexer": "ipython3",
   "version": "3.9.13"
  }
 },
 "nbformat": 4,
 "nbformat_minor": 5
}
