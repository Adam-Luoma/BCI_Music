{
 "cells": [
  {
   "cell_type": "code",
   "execution_count": 1,
   "id": "d33ae1a2",
   "metadata": {},
   "outputs": [],
   "source": [
    "import mingus.core.chords as chords\n",
    "import mingus.core.value as value\n",
    "from mingus.containers import NoteContainer, Bar, Composition\n",
    "from mingus.containers.instrument import MidiInstrument\n",
    "from mingus.containers.track import Track\n",
    "\n",
    "import random"
   ]
  },
  {
   "cell_type": "code",
   "execution_count": 2,
   "id": "cff63f2d",
   "metadata": {},
   "outputs": [],
   "source": [
    "# Creating Drum Loop Background Distractor\n",
    "i1 = MidiInstrument() #initializing midi instrument for track 1 to be \"Melodic Tom\"\n",
    "i1.instrument_nr=117\n",
    "t1 = Track(i1)    \n",
    "\n",
    "b_loop = Bar()        # writing the bar that will loop for the drum track\n",
    "b_loop.place_notes(\"C-3\", 4)\n",
    "b_loop.place_rest(16)\n",
    "b_loop.place_notes(\"C-3\", 16)\n",
    "b_loop.place_notes(\"D-3\", 8)\n",
    "b_loop.place_notes(\"C-3\", 4)\n",
    "b_loop.place_notes(\"C-3\", 8)\n",
    "b_loop.place_notes(\"D-3\", 8)\n",
    "\n",
    "while len(t1.bars) < 8:  #looping the drum track for 8 bars\n",
    "    t1.add_bar(b_loop)"
   ]
  },
  {
   "cell_type": "code",
   "execution_count": 15,
   "id": "4705427a",
   "metadata": {},
   "outputs": [],
   "source": [
    "#initialize main instrument\n",
    "i2 = MidiInstrument() \n",
    "i2.instrument_nr = 11   \n",
    "t2 = Track(i2)  \n",
    "\n",
    "#initialize bars\n",
    "empty_bar = Bar()\n",
    "empty_bar.place_rest(1)\n",
    "chord_bar = Bar()"
   ]
  },
  {
   "cell_type": "code",
   "execution_count": 4,
   "id": "f00c3440",
   "metadata": {},
   "outputs": [],
   "source": [
    "chord_choices = ['C','D','E','F','G','A','B']"
   ]
  },
  {
   "cell_type": "code",
   "execution_count": 5,
   "id": "da865bd2",
   "metadata": {},
   "outputs": [],
   "source": [
    "def get_random_chord(chord_choices):\n",
    "    idx = random.randint(0,6)\n",
    "    target = chord_choices[idx]\n",
    "    target_chord = NoteContainer()\n",
    "    target_chord.from_chord_shorthand(target)\n",
    "    \n",
    "    return target_chord"
   ]
  },
  {
   "cell_type": "code",
   "execution_count": 18,
   "id": "1bbc9c67",
   "metadata": {},
   "outputs": [],
   "source": [
    "def get_target_bar(target_chord):\n",
    "    target_bar = random.randint(4,8)\n",
    "    target_beat = random.randint(1,4)\n",
    "    \n",
    "    while len (t2.bars) < target_bar:\n",
    "        t2.add_bar(empty_bar)\n",
    "\n",
    "    i = 1\n",
    "    if i == target_beat:\n",
    "        chord_bar.place_notes(target_chord)\n",
    "        i += 1\n",
    "    elif i == 5:\n",
    "        t2.add_bar(chord_bar)\n",
    "        exit\n",
    "    else:\n",
    "        chord_bar.place_rest(4)\n",
    "        i += 1\n",
    "        \n",
    "        \n",
    "    while len (t2.bars) < 8:\n",
    "        t2.add_bar(empty_bar)\n",
    "\n",
    "    "
   ]
  },
  {
   "cell_type": "code",
   "execution_count": 21,
   "id": "2e7aadb3",
   "metadata": {},
   "outputs": [
    {
     "name": "stdout",
     "output_type": "stream",
     "text": [
      "['E-4', 'G#-4', 'B-4']\n",
      "[[[0.0, 1, None]], [[0.0, 1, None]], [[0.0, 1, None]], [[0.0, 1, None]], [[0.0, 1, None]], [[0.0, 1, None]], [[0.0, 1, None]], [[0.0, 1, None]]]\n"
     ]
    }
   ],
   "source": [
    "target_chord = get_random_chord(chord_choices)\n",
    "print(target_chord)\n",
    "\n",
    "get_target_bar(target_chord)\n",
    "print(t2.bars)"
   ]
  }
 ],
 "metadata": {
  "kernelspec": {
   "display_name": "Python 3 (ipykernel)",
   "language": "python",
   "name": "python3"
  },
  "language_info": {
   "codemirror_mode": {
    "name": "ipython",
    "version": 3
   },
   "file_extension": ".py",
   "mimetype": "text/x-python",
   "name": "python",
   "nbconvert_exporter": "python",
   "pygments_lexer": "ipython3",
   "version": "3.9.13"
  }
 },
 "nbformat": 4,
 "nbformat_minor": 5
}
