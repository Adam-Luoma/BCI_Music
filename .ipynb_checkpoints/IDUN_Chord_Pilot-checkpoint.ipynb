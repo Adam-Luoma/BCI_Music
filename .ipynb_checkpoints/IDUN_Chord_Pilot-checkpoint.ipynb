{
 "cells": [
  {
   "cell_type": "code",
   "execution_count": 1,
   "id": "d33ae1a2",
   "metadata": {},
   "outputs": [],
   "source": [
    "import mingus.core.chords as chords\n",
    "import mingus.core.value as value\n",
    "from mingus.containers import NoteContainer, Bar, Composition\n",
    "from mingus.containers.instrument import MidiInstrument\n",
    "from mingus.containers.track import Track\n",
    "\n",
    "import random"
   ]
  },
  {
   "cell_type": "code",
   "execution_count": null,
   "id": "cff63f2d",
   "metadata": {},
   "outputs": [],
   "source": [
    "# Creating Drum Loop Background Distractor\n",
    "i1 = MidiInstrument() #initializing midi instrument for track 1 to be \"Melodic Tom\"\n",
    "i1.instrument_nr=117\n",
    "t1 = Track(i1)    \n",
    "\n",
    "b_loop = Bar()        # writing the bar that will loop for the drum track\n",
    "b_loop.place_notes(\"C-3\", 4)\n",
    "b_loop.place_rest(16)\n",
    "b_loop.place_notes(\"C-3\", 16)\n",
    "b_loop.place_notes(\"D-3\", 8)\n",
    "b_loop.place_notes(\"C-3\", 4)\n",
    "b_loop.place_notes(\"C-3\", 8)\n",
    "b_loop.place_notes(\"D-3\", 8)\n",
    "\n",
    "while len(t1.bars) < 8:  #looping the drum track for 8 bars\n",
    "    t1.add_bar(b_loop)"
   ]
  },
  {
   "cell_type": "code",
   "execution_count": null,
   "id": "4705427a",
   "metadata": {},
   "outputs": [],
   "source": [
    "#initialize main instrument\n",
    "i2 = MidiInstrument() \n",
    "i2.instrument_nr = 11   \n",
    "t2 = Track(i2)   "
   ]
  },
  {
   "cell_type": "code",
   "execution_count": 2,
   "id": "f00c3440",
   "metadata": {},
   "outputs": [],
   "source": [
    "chord_choices = ['C','D','E','F','G','A','B']"
   ]
  },
  {
   "cell_type": "code",
   "execution_count": 3,
   "id": "da865bd2",
   "metadata": {},
   "outputs": [],
   "source": [
    "def get_random_chord(chord_choices):\n",
    "    idx = random.randint(0,6)\n",
    "    target_chord = chord_choices[idx]\n",
    "    \n",
    "    return target_chord"
   ]
  },
  {
   "cell_type": "code",
   "execution_count": 11,
   "id": "1bbc9c67",
   "metadata": {},
   "outputs": [
    {
     "data": {
      "text/plain": [
       "'B'"
      ]
     },
     "execution_count": 11,
     "metadata": {},
     "output_type": "execute_result"
    }
   ],
   "source": [
    "def get_target_bar():\n",
    "    "
   ]
  }
 ],
 "metadata": {
  "kernelspec": {
   "display_name": "Python 3 (ipykernel)",
   "language": "python",
   "name": "python3"
  },
  "language_info": {
   "codemirror_mode": {
    "name": "ipython",
    "version": 3
   },
   "file_extension": ".py",
   "mimetype": "text/x-python",
   "name": "python",
   "nbconvert_exporter": "python",
   "pygments_lexer": "ipython3",
   "version": "3.9.13"
  }
 },
 "nbformat": 4,
 "nbformat_minor": 5
}
